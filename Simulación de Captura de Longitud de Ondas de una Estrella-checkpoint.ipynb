{
 "cells": [
  {
   "cell_type": "code",
   "execution_count": 1,
   "metadata": {},
   "outputs": [],
   "source": [
    "# Todas las librerias que seran utilizadas\n",
    "from numpy import *\n",
    "from random import *\n",
    "import pandas as pd"
   ]
  },
  {
   "cell_type": "code",
   "execution_count": 2,
   "metadata": {},
   "outputs": [],
   "source": [
    "# Se definen las constantes que se usan para la ecuación de Plank\n",
    "k = 1.380649 * 10**(-23)\n",
    "c = 299792458 \n",
    "h = 6.62607015 * 10**(-34)\n",
    "a = h*c/k"
   ]
  },
  {
   "cell_type": "code",
   "execution_count": 3,
   "metadata": {},
   "outputs": [],
   "source": [
    "# Se define la ecuación de Plank\n",
    "def E(y,t):\n",
    "    E = (8*pi*a*k/(y**5))/(e**(a/(y*t))-1)\n",
    "    return(E)"
   ]
  },
  {
   "cell_type": "code",
   "execution_count": 4,
   "metadata": {},
   "outputs": [],
   "source": [
    "T = int(3000*random()) + 3000 # Se plante una temperatura aleatoria de 3000 a 6000 grados Kelvin\n",
    "F = arange(7*10**(-9), 4*10**(-6), 10**(-9)) # Se da un rango un rango de longitudes de onda para calcular la curva de poder de emision espectral con la temperatura planteada (cubre cada nanometro hasta 4 micrometros)\n",
    "I = [] # Se hace una lista donde se colocara cada valor de poder de emision espectral\n",
    "for i in F: # Se calcula los poderes de emision espectral por cada valor de longitud de onda y la temperatura planteada\n",
    "    I.append(E(i,T))"
   ]
  },
  {
   "cell_type": "code",
   "execution_count": 5,
   "metadata": {},
   "outputs": [],
   "source": [
    "A = [] # Una lista para colocar 200 indices de la maxima longitud de onda a la ultima \n",
    "B = [] # Una lista para colocar 200 indices de la primera longitud de onda a la maxima \n",
    "# El proposito es que cada valor de los indices de la lista A y B que esten en la misma posición corresponda a valores cuyo poder de emision espectral sea igual (o por lo menos lo mas cercano posible)\n",
    "for i in range(200): # Se hara 200 veces lo siguiente para tener 200 valores de la lista\n",
    "    x = i*((max(I)-I[len(I)-1])/199)+I[len(I)-1] # Del ultimo valor de la lista de emision espectral (que seria un minimo) al maximo, se dividira en 200 y 'x' depende del valor de iteracion tendra una fraccion del valor de poder de emision espectral (el primero seria el minimo y el ultimo el maximo)\n",
    "    y = 0 # Esta variable corresponde a los indices del primero al indice del maximo\n",
    "    z = len(I)-1 # Esta variable corresponde a los indices del ultimo al indice del maximo\n",
    "    while I[y] < x: # Aqui se encontrara el del indice cuyo valor de la lista sea el mas parecido a x\n",
    "        y = y + 1 # Se ira sumando 1 para comprovar si el indice 'y' corresponde al minimo que sea mayor o igual a 'x'\n",
    "    while I[z] < x: # Aqui se encontrara el del indice cuyo valor de la lista sea el mas parecido a x\n",
    "        z = z - 1 # Se ira restando 1 para comprovar si el indice 'z' corresponde al minimo que sea mayor o igual a 'x'\n",
    "    A.append(z) # Se agrega a la lista ya que es el indice que más se parce a 'x' despues del maximo\n",
    "    B.append(y) # Se agrega a la lista ya que es el indice que más se parce a 'x' antes del maximo"
   ]
  },
  {
   "cell_type": "code",
   "execution_count": 6,
   "metadata": {},
   "outputs": [],
   "source": [
    "Datos = [] # Esta es una lista donde se agregaran los valores de longitud de onda que corresponda a una simulacion de la medicion de la radacion del astro\n",
    "# Aquí lo que se hace es simular una medición de la radiacion de una estrella, ya que las mediciones no son lo mas precisas que puede haber, los valores seran aleatorios, pero tienen que ser correspondientes con la emision de radiacion de la estrella con la temperatura planteada\n",
    "for i in range(200): # Se hara esto 200 veces ya que es el tamaño de las listas A y B\n",
    "    for j in range(A[i]-B[i]+1): # Como se tienen que generar valores de acuerdo a la emision, esto seran de los indices que su emsion radiactiva sea \"igual\", por eso asi son las listas A y B, yde cada valor se generara al menos el valor de la diferencia de los indices mas 1 \n",
    "        r = 0 # Este sera el valor del indice que se genere de manera aleatoria\n",
    "        r = int((A[i]-B[i])*random()) + B[i] # Se genera un valor aleatorio de el indice de la lista B al de la lista A\n",
    "        Datos.append(F[r]) # Con indice que le corresponde a la lista de la longitudes de onda se colocara a la lista de datos, entonces de esta manera se colocan datos de longitud de onda de manera aleatoria pero respetando la emisión de la estrella con la temperatura planteada"
   ]
  },
  {
   "cell_type": "code",
   "execution_count": 7,
   "metadata": {},
   "outputs": [],
   "source": [
    "DF = [] # Esta es una lista donde se colocan los datos ya obtenidos, pero mas \"revueltos\" para que no haya ningun orden especial en los datos obtenidos en la simulacion de la medición\n",
    "while Datos != []: # Esto se hara hasta que la lista este vacia\n",
    "    i = 0 # Esta variable sera el indice de la lista de datos\n",
    "    i = int(len(Datos)*random()) # El indice sera de manera aleatoria del tamaño de la lista de datos\n",
    "    DF.append(Datos[i]) # El valor que corresponde a este indice se agrega a la nueva lista\n",
    "    Datos.pop(i) # El valor que corresponde a este indice se borrara a la lista de datos"
   ]
  },
  {
   "cell_type": "code",
   "execution_count": 8,
   "metadata": {},
   "outputs": [],
   "source": [
    "Archivo = pd.DataFrame(DF) # Con la biblioteca pandas se agrega la lista de datos finales a un archivo .csv\n",
    "Archivo.to_csv('Datos_Finales.csv')"
   ]
  },
  {
   "cell_type": "code",
   "execution_count": 9,
   "metadata": {},
   "outputs": [],
   "source": [
    "s = open(\"Temperatura_Real.txt\", \"w\") # Se hara un archivo de texto donde coloque la temperatura planteada aleatoria, para comprovar si la temperatura calculada es la correcta\n",
    "s.write(\"Las muestras de radiación que se dan son a partir de una estrella que esta a %g grados Kelvin\" % T )\n",
    "s.close()"
   ]
  },
  {
   "cell_type": "code",
   "execution_count": null,
   "metadata": {},
   "outputs": [],
   "source": []
  }
 ],
 "metadata": {
  "kernelspec": {
   "display_name": "Python 3",
   "language": "python",
   "name": "python3"
  },
  "language_info": {
   "codemirror_mode": {
    "name": "ipython",
    "version": 3
   },
   "file_extension": ".py",
   "mimetype": "text/x-python",
   "name": "python",
   "nbconvert_exporter": "python",
   "pygments_lexer": "ipython3",
   "version": "3.8.3"
  }
 },
 "nbformat": 4,
 "nbformat_minor": 4
}
